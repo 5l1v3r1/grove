{
 "cells": [
  {
   "cell_type": "markdown",
   "metadata": {
    "slideshow": {
     "slide_type": "slide"
    }
   },
   "source": [
    "# pyqaoa\n",
    "A module of Grove for running the Quantum Approximate Optimization\n",
    "Algorithm on an instance of a quantum abstract machine.  \n",
    "\n"
   ]
  },
  {
   "cell_type": "markdown",
   "metadata": {
    "slideshow": {
     "slide_type": "-"
    }
   },
   "source": [
    "``pyqaoa`` contains the main QAOA algorithm object and problem specific
    instances. The ``QAOA`` library provides functionality for running both
    modes of the QAOA algorithm: 1) pre-computing the angles and calling the
    QPU or 2) using the vqe routine to determine the optimal angles and then
    return the optimal bit string.
    ]
  },
  {
   "cell_type": "markdown",
   "metadata": {
    "slideshow": {
     "slide_type": "slide"
    }
   },
   "source": [
    "## Getting Started\n",
    "\n",
    "### Prerequisites\n",
    "Before starting, ensure that you have an installation of Python 2.7.(>= 10). You will need the most up to date version of ``pyQuil``, ``numpy``, and ``scipy``.    \n",
    "\n",
    "### Installation\n",
    "```\n",
    "git clone https://github.com/rigetticomputing/pyQuil.git\n",
    "cd pyQuil\n",
    "pip install -e .\n",
    "```\n",
    "\n",
    "### Connecting to the `Forest`\n",
    "In order to connect to a QVM you need to set the global enviornment variable `QVM_API_KEY` to the key string that is provided. To add this variable \n",
    "- (on Linux) add the following lines to your `~./.bashrc` file: \n",
    "```\n",
    "export QVM_API_KEY=\"hex-dec-key\"\n",
    "```\n",
    "- (on Windows) in powershell execute the following: \n",
    "```\n",
    "$ENV:QVM_HTTPS_KEY=\"hex-dec-key\"\n",
    "```\n",
    "- Alternatively, (on Windows) you can navigate to start->control panel->System and select Environment Variables.  From this menu you can add a New System Variable and paste the hex-dec-key for the QVM API.\n"
   ]
  },
  {
   "cell_type": "markdown",
   "metadata": {},
   "source": [
    "## Package Components\n",
    "\n",
    "The `pyqaoa` module contains the `QAOA` class that manages the QAOA
    problem instance and provides hooks to the variational quantum eigensolver
    routine in the Grove library.  The other submodules in the pyqaoa library are examples of interacting with the QAOA class for various combinatorial optimization problems.\n"
   ]
  },
 ],
 "metadata": {
  "anaconda-cloud": {},
  "celltoolbar": "Raw Cell Format",
  "kernelspec": {
   "display_name": "Python2",
   "language": "python",
   "name": "Python2"
  },
  "language_info": {
   "codemirror_mode": {
    "name": "ipython",
    "version": 2
   },
   "file_extension": ".py",
   "mimetype": "text/x-python",
   "name": "python",
   "nbconvert_exporter": "python",
   "pygments_lexer": "ipython2",
   "version": "2.7.12"
  }
 },
 "nbformat": 4,
 "nbformat_minor": 0
}
