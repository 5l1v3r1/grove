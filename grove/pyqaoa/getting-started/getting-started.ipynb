{
 "cells": [
  {
   "cell_type": "markdown",
   "metadata": {
    "slideshow": {
     "slide_type": "slide"
    }
   },
   "source": [
    "# pyqaoa\n",
    "A python package for running the Quantum Approximate Optimization\n",
    "Algorithm on an instance of a quantum abstract machine.  \n",
    "\n"
   ]
  },
  {
   "cell_type": "markdown",
   "metadata": {
    "slideshow": {
     "slide_type": "-"
    }
   },
   "source": [
    "``pyqaoa`` contains the main QAOA algorithm object and problem specific instances. The ``QAOA`` abstract uses the variational-quantum-eigensolver algorithm in pyQuil to solve for the optimal angles rotation angles for an approximation to the ground state of the cost function.  State preparation is initialized by calling ``get_parameterized_program()`` that returns a functions that produces the quil program when given a set of parameters.  This functionality exploits ``ParametricProgram`` from pyQuil."
   ]
  },
  {
   "cell_type": "markdown",
   "metadata": {
    "slideshow": {
     "slide_type": "slide"
    }
   },
   "source": [
    "## Getting Started\n",
    "\n",
    "### Prerequisites\n",
    "Before starting, ensure that you have an installation of Python 2.7.(>= 10). You will need the most up to date version of ``pyQuil``, ``numpy``, and ``scipy``.    \n",
    "\n",
    "### Installation\n",
    "```\n",
    "git clone https://github.com/rigetticomputing/pyQuil.git\n",
    "cd pyQuil\n",
    "pip install -e .\n",
    "```\n",
    "\n",
    "### Connecting to the `Forest`\n",
    "In order to connect to a QVM you need to set the global enviornment variable `QVM_API_KEY` to the key string that is provided. To add this variable \n",
    "- (on Linux) add the following lines to your `~./.bashrc` file: \n",
    "```\n",
    "export QVM_API_KEY=\"hex-dec-key\"\n",
    "```\n",
    "- (on Windows) in powershell execute the following: \n",
    "```\n",
    "$ENV:QVM_HTTPS_KEY=\"hex-dec-key\"\n",
    "```\n",
    "- Alternatively, (on Windows) you can navigate to start->control panel->System and select Environment Variables.  From this menu you can add a New System Variable and paste the hex-dec-key for the QVM API.\n"
   ]
  },
  {
   "cell_type": "markdown",
   "metadata": {},
   "source": [
    "## Package Components\n",
    "\n",
    "The `pyqaoa` package contains the `QAOA` class that manages the QAOA problem instance and provides hooks to the variational quantum eigensolver routine in the pyQuil library.  The other modules in the pyQAOA library are examples of interacting with the QAOA class for various combinatorial optimization problems.\n"
   ]
  },
  {
   "cell_type": "markdown",
   "metadata": {
    "slideshow": {
     "slide_type": "slide"
    }
   },
   "source": [
    "## Review: The Variational Quantum Eigensolver\n",
    "\n",
    "QVE is a hybrid quantum-classical approach to computing the eigen spectrum of a Hamiltonian.  In QAOA it is used to estimate the expectation value of the cost Hamiltonian.  The following figure describes how a classical optimization algorithm uses a quantum processing unit for state preparation and function evaluation. "
   ]
  },
  {
   "cell_type": "markdown",
   "metadata": {
    "slideshow": {
     "slide_type": "-"
    }
   },
   "source": [
    "<img src=\"./images/VQEAlgorithm.png\" width=\"700\"/>"
   ]
  },
  {
   "cell_type": "markdown",
   "metadata": {},
   "source": [
    "You can now run the demo notebooks in this folder!"
   ]
  }
 ],
 "metadata": {
  "anaconda-cloud": {},
  "celltoolbar": "Raw Cell Format",
  "kernelspec": {
   "display_name": "Python2",
   "language": "python",
   "name": "Python2"
  },
  "language_info": {
   "codemirror_mode": {
    "name": "ipython",
    "version": 2
   },
   "file_extension": ".py",
   "mimetype": "text/x-python",
   "name": "python",
   "nbconvert_exporter": "python",
   "pygments_lexer": "ipython2",
   "version": "2.7.12"
  }
 },
 "nbformat": 4,
 "nbformat_minor": 0
}
