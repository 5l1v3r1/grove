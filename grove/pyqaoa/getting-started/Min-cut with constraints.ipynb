{
 "cells": [
  {
   "cell_type": "markdown",
   "metadata": {},
   "source": [
    "# MinCut with constraints"
   ]
  },
  {
   "cell_type": "markdown",
   "metadata": {},
   "source": [
    "Many combinatorial optimization problems seek a bit string that maximizes some cost function subject to constraints.  For example, one could ask for a bit string indicating a graph partitioning where the partitions are of equal size.  This is equivalent to searching for bit strings in subspace that has a zero magnetization.  The Hamiltonian that enforces this constraint is\n",
    "$$\\begin{align}\n",
    " H = A\\left(\\sum_{i}\\hat{\\sigma}_{i}^{z}\\right)^{2} = A\\sum_{i,j} \\hat{\\sigma}_{i}^{z}\\hat{\\sigma}_{j}^{z}.\n",
    "\\end{align}$$\n",
    "and is analogous to Hamiltonian that appears for equal partition of assets.  The ground state of the Hamiltonian is zero and corresponds to a superposition of bit strings that have magnetization zero."
   ]
  },
  {
   "cell_type": "code",
   "execution_count": null,
   "metadata": {
    "collapsed": false
   },
   "outputs": [],
   "source": [
    "# first import relevant libraries and initialize a connection to the qvm.\n",
    "from grove.pyqaoa.qaoa import QAOA\n",
    "from pyquil.paulis import PauliTerm, PauliSum\n",
    "import pyquil.quil as pq\n",
    "from pyquil.gates import X\n",
    "import pyquil.forest as qvm_module\n",
    "import numpy as np\n",
    "cxn = qvm_module.Connection()"
   ]
  },
  {
   "cell_type": "markdown",
   "metadata": {},
   "source": [
    "We can prepare this operator and the driver Hamiltonian in a similar manner to the maximum cut problem."
   ]
  },
  {
   "cell_type": "code",
   "execution_count": null,
   "metadata": {
    "collapsed": false
   },
   "outputs": [],
   "source": [
    "n_qubits = 4\n",
    "cost_operator = []\n",
    "ref_operator = []\n",
    "steps = 2\n",
    "for ii in xrange(n_qubits):\n",
    "    for jj in xrange(n_qubits):\n",
    "        cost_operator.append(PauliSum([PauliTerm(\"Z\", ii, 1.0) *\n",
    "                                  PauliTerm(\"Z\", jj, 1.0)]))\n",
    "    ref_operator.append(PauliSum([PauliTerm(\"X\", ii, -1.0)]))\n",
    "\n",
    "inst = QAOA(cxn, n_qubits, steps=steps, cost_ham=cost_operator,\n",
    "            ref_hamiltonian=ref_operator, store_basis=True, rand_seed=13, vqe_options={'disp': None}, minimizer_kwargs={'method': 'Nelder-Mead', 'options': {'maxfev': 300, 'disp': True}})"
   ]
  },
  {
   "cell_type": "markdown",
   "metadata": {},
   "source": [
    "We could have looped over the unique indices and given the `PauliTerm` coefficient equal to $2$.  The repeated indices add a constant to the Hamiltonian which does not change the ground state distribution.  The `get_angles()` method of the `QAOA` instance can now be used to identify the optimal angles for the driver and cost rotations by calling the VQE algorithm in `grove.pyvqe`.  "
   ]
  },
  {
   "cell_type": "code",
   "execution_count": null,
   "metadata": {
    "collapsed": false
   },
   "outputs": [],
   "source": [
    "betas, gammas = inst.get_angles()"
   ]
  },
  {
   "cell_type": "markdown",
   "metadata": {},
   "source": [
    "On a real quantum computer we wouldn't recover the entire wave function.  Instead we would check if the ground state was 0.  Since we are working with a QVM instance instead of a real quantum processing unit we can query the wavefunction for debugging purposesses.  To query the final expectation value computed in the VQE algorith we can look at the `result` field in the QAOA object after the `get_angles()` method was run.  The final expectation value is stored in the `fun` object field."
   ]
  },
  {
   "cell_type": "code",
   "execution_count": null,
   "metadata": {
    "collapsed": false
   },
   "outputs": [],
   "source": [
    "print inst.result.fun"
   ]
  },
  {
   "cell_type": "code",
   "execution_count": null,
   "metadata": {
    "collapsed": false
   },
   "outputs": [],
   "source": [
    "probs = inst.probabilities(np.hstack((betas, gammas)))\n",
    "for state, prob in zip(inst.states, probs):\n",
    "    print state, prob"
   ]
  },
  {
   "cell_type": "markdown",
   "metadata": {},
   "source": [
    "As expected the dominant bit strings are the strings with $\\hat{J}_{z} = 0$."
   ]
  },
  {
   "cell_type": "markdown",
   "metadata": {},
   "source": [
    "## When is this penalty function useful?"
   ]
  },
  {
   "cell_type": "markdown",
   "metadata": {},
   "source": [
    "Another type of graph parititioning is finding the minimum cut between two equal size clusters.  For example, imagine two clusters that are loosely connected.  Processing the entire graph may be difficult, but breaking up the graph into parts and then performing computation on each disperate set.   Recently, this graph partitioning has been proposed for linear scaling electronic structure calculations."
   ]
  },
  {
   "cell_type": "code",
   "execution_count": null,
   "metadata": {
    "collapsed": false
   },
   "outputs": [],
   "source": [
    "%matplotlib inline\n",
    "\n",
    "import networkx as nx\n",
    "import matplotlib.pyplot as plt\n",
    "limits=plt.axis('off')\n",
    "\n",
    "graph = nx.barbell_graph(6, 6, )\n",
    "nx.draw_networkx(graph, pos=nx.spring_layout(graph), with_labels=True)"
   ]
  },
  {
   "cell_type": "markdown",
   "metadata": {},
   "source": [
    "If the objective is to identify two large clusters of the graph.  It is easy to see that for a graph like this we want to simply cut the barbell connection between the two fully connected sets of 4 on the end.  The cost function for this is equivalent to a minimum cut.  We want to penalize when the nodes are allocated to different sets\n",
    "$$\\begin{align}\n",
    "\\hat{H} = B\\sum_{(\\nu, \\mu) \\in E} (I -\\sigma_{\\nu}^{Z} \\sigma_{\\mu}^{Z})/2.\n",
    "\\end{align}\n",
    "$$\n",
    "and also penalize when we don't have an even partition with the penalty operator given above\n",
    "$$\\begin{align}\n",
    " H = A\\left(\\sum_{i}\\hat{\\sigma}_{i}^{z}\\right)^{2} = A\\sum_{i,j} \\hat{\\sigma}_{i}^{z}\\hat{\\sigma}_{j}^{z}.\n",
    "\\end{align}$$\n",
    "We need to ensure that the grouping term ($B$) doesn't dominate energy scale of the problem.  In order to avoid this situation the ratio of A/B can be selected to balance the effects of violating a constraint in Hamiltonian A and gaining energy from B. We can now construct the cost and driver Hamiltonians very naturally from iterating over the edges of the graph."
   ]
  },
  {
   "cell_type": "code",
   "execution_count": null,
   "metadata": {
    "collapsed": false
   },
   "outputs": [],
   "source": [
    "cost_operators = []\n",
    "driver_operators = []\n",
    "B = 1\n",
    "max_degree = max(graph.degree(), key=lambda x: graph.degree()[x])\n",
    "# bounds from arXiv: 1302:5843v3\n",
    "A_B_ratio = min(2*max_degree, len(graph.nodes()))/8.0\n",
    "A = A_B_ratio\n",
    "for node in graph.nodes():\n",
    "    for node_j in graph.nodes():\n",
    "        cost_operators.append(PauliSum([PauliTerm(\"Z\", node, A)*PauliTerm(\"Z\", node_j, 1.0)]))\n",
    "    driver_operators.append(PauliSum([PauliTerm(\"X\", node, -1)]))\n",
    "    \n",
    "for i, j in graph.edges():\n",
    "    cost_operators.append(PauliTerm(\"Z\", i, -B*0.5)*PauliTerm(\"Z\", j, 1.0) + PauliTerm(\"I\", 0, B*0.5))\n",
    "    \n",
    "# set number of qubits\n",
    "n_qubits = len(graph.nodes())"
   ]
  },
  {
   "cell_type": "markdown",
   "metadata": {},
   "source": [
    "We can now instantiate the `QAOA`object and run the VQE loop to find the angles."
   ]
  },
  {
   "cell_type": "code",
   "execution_count": null,
   "metadata": {
    "collapsed": false
   },
   "outputs": [],
   "source": [
    "from scipy.optimize import minimize\n",
    "n_qubits= len(graph.nodes())\n",
    "def print_fun(x):\n",
    "    print x\n",
    "    \n",
    "qaoa_inst = QAOA(cxn, n_qubits, steps=1, cost_ham=cost_operators, ref_hamiltonian=driver_operators, store_basis=True,\n",
    "                 minimizer=minimize, minimizer_kwargs={'method': 'Nelder-Mead',\n",
    "                                                       'options': {'ftol': 1.0e-2, 'xtol': 1.0e-2, 'disp': True, 'maxfev': 10000}},\n",
    "                 vqe_options={'disp': print_fun}, rand_seed=42)"
   ]
  },
  {
   "cell_type": "markdown",
   "metadata": {},
   "source": [
    "Including the penalty term in the cost function Hamiltonian drastically increases the size of the Quil Program needed for execution.  There are $N(N - 1)/2$ terms more which are all Hamiltonians with two Pauli operators in their string requiring entanglement.  Since the sum runs over all the qubits we potentially must entangle an arbitrary number of qubits across the lattice.  Furthermore, It seems unlikely that the most probably bit string will be determined by low step size.  Just as a demonstration let's run p=1 for the penalty Hamiltonian."
   ]
  },
  {
   "cell_type": "code",
   "execution_count": null,
   "metadata": {
    "collapsed": false
   },
   "outputs": [],
   "source": [
    "betas, gammas = qaoa_inst.get_angles()"
   ]
  },
  {
   "cell_type": "markdown",
   "metadata": {},
   "source": [
    "Clearly, the objective is siginficantly above the true ground state that we know to be 1.0.  We can then ask for the most frequent bitstring from sampling to gauge if the VQE loop was able to find angles that produced a distribution around the desired solution."
   ]
  },
  {
   "cell_type": "code",
   "execution_count": null,
   "metadata": {
    "collapsed": false
   },
   "outputs": [],
   "source": [
    "most_freq_string, sampling_results = qaoa_inst.get_string(betas, gammas, samples=100)"
   ]
  },
  {
   "cell_type": "code",
   "execution_count": null,
   "metadata": {
    "collapsed": false
   },
   "outputs": [],
   "source": [
    "most_freq_string"
   ]
  },
  {
   "cell_type": "markdown",
   "metadata": {},
   "source": [
    "As expected from the value of the cost function at the end of the optimization the distribution we are sampling from does not represent a distribution that is dominated by the ground state configuration.  We would expect a degenerate ground state peaked around the strings $(0,0,0,0,0,0,1,1,1,1,1,1)$ and $(1,1,1,1,1,1,0,0,0,0,0,0)$."
   ]
  },
  {
   "cell_type": "code",
   "execution_count": null,
   "metadata": {
    "collapsed": false
   },
   "outputs": [],
   "source": [
    "probs = qaoa_inst.probabilities(np.hstack((betas, gammas)))"
   ]
  },
  {
   "cell_type": "code",
   "execution_count": null,
   "metadata": {
    "collapsed": true
   },
   "outputs": [],
   "source": [
    "# plotting strings!\n",
    "def plot(inst, probs):\n",
    "    probs = probs.real\n",
    "    states = inst.states\n",
    "    fig = plt.figure()\n",
    "    ax = fig.add_subplot(111)\n",
    "    ax.set_xlabel(\"state\",fontsize=20)\n",
    "    ax.set_ylabel(\"Probability\",fontsize=20)\n",
    "    ax.set_xlim([0, 2**inst.n_qubits])\n",
    "    rec = ax.bar(range(2**n_qubits), probs, )\n",
    "    num_states = [0, int(\"\".join(str(x) for x in [0] * (inst.n_qubits/2) + [1] * (inst.n_qubits/2) ), 2), \n",
    "              int(\"\".join(str(x) for x in [1] * (inst.n_qubits/2) + [0] * (inst.n_qubits/2)), 2), 2**inst.n_qubits - 1 ]\n",
    "    ax.set_xticks(num_states)\n",
    "    ax.set_xticklabels(map(lambda x: inst.states[x], num_states), rotation=90)\n",
    "    plt.grid(True)\n",
    "    plt.tight_layout()\n",
    "    plt.show()"
   ]
  },
  {
   "cell_type": "code",
   "execution_count": null,
   "metadata": {
    "collapsed": false
   },
   "outputs": [],
   "source": [
    "plot(qaoa_inst, probs)"
   ]
  },
  {
   "cell_type": "markdown",
   "metadata": {},
   "source": [
    "Clearly, It is quite difficult to use VQE to determine the optimal parameters for the penalized cost Hamiltonian. We easily converge to local minimum. Furthermore the Quil program now requires entanglement between qubits that could be seperated by a great distance on some physical device.  This requires many swap steps to perform entangling gates."
   ]
  },
  {
   "cell_type": "markdown",
   "metadata": {},
   "source": [
    "# Constrained driver Hamiltonian\n",
    "We can remove the constraint term from the problem Hamiltonian by selecting a driver that commutes with the penalty term and the cost Hamiltonian.  Therefore, the constraint will be a consant of motion and if we start the QAOA algorithm with a reference that is in the correct subspace satisfying the constraint we will stay in the space.  This results in siginficantly fewer Hamiltonian terms and avoids the difficulty of identifying the correct penalty strengths based on the cost degree of a graph.  \n",
    "\n",
    "In the following we will replace our driver Hamiltonian with\n",
    "$$\n",
    "\\begin{align}\n",
    "\\hat{H}_{\\mathrm{Driver}} = -\\sum_{i = 1}^{n} \\sigma_{n}^{X}\\sigma_{n+1}^{X} + \\sigma_{n}^{Y}\\sigma_{n+1}^{Y}\n",
    "\\end{align}\n",
    "$$\n",
    "where $n$ is the number of qubits.  Another feature of this driver is that it is the natural Hamiltonian of common superconducting qubits. "
   ]
  },
  {
   "cell_type": "code",
   "execution_count": null,
   "metadata": {
    "collapsed": false
   },
   "outputs": [],
   "source": [
    "set_length = len(graph.nodes())\n",
    "driver_operators = []\n",
    "cost_operators = []\n",
    "for node in xrange(set_length):\n",
    "    one_driver_term = PauliTerm(\"X\", node, -1.0) * PauliTerm(\"X\", (node + 1) % set_length, 1.0) + PauliTerm(\"Y\", node, -1.0) * PauliTerm(\"Y\", (node + 1) % set_length, 1.0)\n",
    "    driver_operators.append(one_driver_term)\n",
    "    \n",
    "for i, j in graph.edges():\n",
    "    cost_operators.append(PauliTerm(\"Z\", i, -0.5)*PauliTerm(\"Z\", j, 1.0) + PauliTerm(\"I\", 0, 0.5))"
   ]
  },
  {
   "cell_type": "markdown",
   "metadata": {},
   "source": [
    "We will also replace our initial state to correspond with a state in the correct subspace of the Hamiltonian.  The penalty function from before indicated that we need to start somewhere in the zero magnetization subspace.  This is achieved by simply flipping $n/2$ of the bits."
   ]
  },
  {
   "cell_type": "code",
   "execution_count": null,
   "metadata": {
    "collapsed": false
   },
   "outputs": [],
   "source": [
    "start_prog = pq.Program()\n",
    "for node in xrange(set_length/2):\n",
    "    start_prog.inst(X(node))"
   ]
  },
  {
   "cell_type": "code",
   "execution_count": null,
   "metadata": {
    "collapsed": false
   },
   "outputs": [],
   "source": [
    "n_qubits= len(graph.nodes())\n",
    "qaoa_inst_constraint = QAOA(cxn, n_qubits, steps=1, cost_ham=cost_operators, ref_hamiltonian=driver_operators, store_basis=True,\n",
    "                 driver_ref=start_prog,\n",
    "                 minimizer=minimize, minimizer_kwargs={'method': 'Nelder-Mead',\n",
    "                                                       'options': {'ftol': 1.0e-1, 'xtol': 1.0e-1, 'disp': True, 'maxfev': 10000}},\n",
    "                 vqe_options={'disp': print_fun}, rand_seed=42)"
   ]
  },
  {
   "cell_type": "markdown",
   "metadata": {},
   "source": [
    "We now want to start our QAOA run in the correct subspace.  Since our constraint corresponded to equal size subgraphs we want to perform an `X` operation on half of the qubits."
   ]
  },
  {
   "cell_type": "code",
   "execution_count": null,
   "metadata": {
    "collapsed": false
   },
   "outputs": [],
   "source": [
    "betas, gammas = qaoa_inst_constraint.get_angles()"
   ]
  },
  {
   "cell_type": "markdown",
   "metadata": {},
   "source": [
    "The reduction of complexity in the Hamiltonian also allowed us to easily determine angles that result in a distribution that is peaked around the ground state.  The following two sells indicate that the distribution is actually a delta function around one of the solutions!"
   ]
  },
  {
   "cell_type": "code",
   "execution_count": null,
   "metadata": {
    "collapsed": false
   },
   "outputs": [],
   "source": [
    "probs = qaoa_inst_constraint.probabilities(np.hstack((betas, gammas)))"
   ]
  },
  {
   "cell_type": "code",
   "execution_count": null,
   "metadata": {
    "collapsed": false
   },
   "outputs": [],
   "source": [
    "plot(qaoa_inst_constraint, probs)"
   ]
  },
  {
   "cell_type": "markdown",
   "metadata": {},
   "source": [
    "Now we can sample and look at the solution and get the correct bit string with practically 100% probability."
   ]
  },
  {
   "cell_type": "code",
   "execution_count": null,
   "metadata": {
    "collapsed": false
   },
   "outputs": [],
   "source": [
    "print betas, gammas\n",
    "most_freq_string, sampling_results = qaoa_inst_constraint.get_string(betas, gammas, samples=100)"
   ]
  },
  {
   "cell_type": "code",
   "execution_count": null,
   "metadata": {
    "collapsed": false
   },
   "outputs": [],
   "source": [
    "print most_freq_string"
   ]
  },
  {
   "cell_type": "markdown",
   "metadata": {},
   "source": [
    "We can visualize our graph parititioning by assigning different colors to the $|0\\rangle$ or $|1\\rangle$."
   ]
  },
  {
   "cell_type": "code",
   "execution_count": null,
   "metadata": {
    "collapsed": false
   },
   "outputs": [],
   "source": [
    "draw_colors = [ 'r' if x==1 else 'b' for x in most_freq_string]"
   ]
  },
  {
   "cell_type": "code",
   "execution_count": null,
   "metadata": {
    "collapsed": false
   },
   "outputs": [],
   "source": [
    "nx.draw_networkx(graph, pos=nx.spring_layout(graph), with_labels=True, node_color=draw_colors)"
   ]
  },
  {
   "cell_type": "markdown",
   "metadata": {},
   "source": [
    "As expected we get the correct minimum cut of the graph."
   ]
  }
 ],
 "metadata": {
  "anaconda-cloud": {},
  "kernelspec": {
   "display_name": "Python 2",
   "language": "python",
   "name": "python2"
  },
  "language_info": {
   "codemirror_mode": {
    "name": "ipython",
    "version": 2
   },
   "file_extension": ".py",
   "mimetype": "text/x-python",
   "name": "python",
   "nbconvert_exporter": "python",
   "pygments_lexer": "ipython2",
   "version": "2.7.13"
  }
 },
 "nbformat": 4,
 "nbformat_minor": 1
}
