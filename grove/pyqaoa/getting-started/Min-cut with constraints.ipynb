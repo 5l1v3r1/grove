{
 "cells": [
  {
   "cell_type": "markdown",
   "metadata": {},
   "source": [
    "# MinCut with constraints"
   ]
  },
  {
   "cell_type": "markdown",
   "metadata": {},
   "source": [
    "Many combinatorial optimization problems seek a bit string that maximizes some cost function subject to constraints.  For example, one could ask for a bit string indicating a graph partitioning where the partitions are of equal size.  This is equivalent to searching for bit strings in subspace that has a zero magnetization.  The Hamiltonian that enforces this constraint is\n",
    "$$\\begin{align}\n",
    " H = A\\left(\\sum_{i}\\hat{\\sigma}_{i}^{z}\\right)^{2} = A\\sum_{i,j} \\hat{\\sigma}_{i}^{z}\\hat{\\sigma}_{j}^{z}.\n",
    "\\end{align}$$\n",
    "and is analogous to Hamiltonian that appears for equal partition of assets.  The ground state of the Hamiltonian is zero and corresponds to a superposition of bit strings that have magnetization zero."
   ]
  },
  {
   "cell_type": "code",
   "execution_count": 1,
   "metadata": {
    "collapsed": false
   },
   "outputs": [],
   "source": [
    "# first import relevant libraries and initialize a connection to the qvm.\n",
    "from grove.pyqaoa.qaoa import QAOA\n",
    "from pyquil.paulis import PauliTerm, PauliSum\n",
    "import pyquil.quil as pq\n",
    "from pyquil.gates import X\n",
    "import pyquil.forest as qvm_module\n",
    "import numpy as np\n",
    "cxn = qvm_module.Connection()"
   ]
  },
  {
   "cell_type": "markdown",
   "metadata": {},
   "source": [
    "We can prepare this operator and the driver Hamiltonian in a similar manner to the maximum cut problem."
   ]
  },
  {
   "cell_type": "code",
   "execution_count": 2,
   "metadata": {
    "collapsed": false
   },
   "outputs": [],
   "source": [
    "n_qubits = 4\n",
    "cost_operator = []\n",
    "ref_operator = []\n",
    "steps = 2\n",
    "for ii in xrange(n_qubits):\n",
    "    for jj in xrange(n_qubits):\n",
    "        cost_operator.append(PauliSum([PauliTerm(\"Z\", ii, 1.0) *\n",
    "                                  PauliTerm(\"Z\", jj, 1.0)]))\n",
    "    ref_operator.append(PauliSum([PauliTerm(\"X\", ii, -1.0)]))\n",
    "\n",
    "inst = QAOA(cxn, n_qubits, steps=steps, cost_ham=cost_operator,\n",
    "            ref_hamiltonian=ref_operator, store_basis=True, rand_seed=13, vqe_options={'disp': None}, minimizer_kwargs={'method': 'Nelder-Mead', 'options': {'maxfev': 300, 'disp': True}})"
   ]
  },
  {
   "cell_type": "markdown",
   "metadata": {},
   "source": [
    "We could have looped over the unique indices and given the `PauliTerm` coefficient equal to $2$.  The repeated indices add a constant to the Hamiltonian which does not change the ground state distribution.  The `get_angles()` method of the `QAOA` instance can now be used to identify the optimal angles for the driver and cost rotations by calling the VQE algorithm in `pyQuil`.  "
   ]
  },
  {
   "cell_type": "code",
   "execution_count": 4,
   "metadata": {
    "collapsed": false
   },
   "outputs": [
    {
     "name": "stdout",
     "output_type": "stream",
     "text": [
      "Optimization terminated successfully.\n",
      "         Current function value: 0.000000\n",
      "         Iterations: 126\n",
      "         Function evaluations: 225\n"
     ]
    }
   ],
   "source": [
    "betas, gammas = inst.get_angles()"
   ]
  },
  {
   "cell_type": "markdown",
   "metadata": {},
   "source": [
    "On a real quantum computer we wouldn't recover the entire wave function.  Instead we would check if the ground state was 0.  Since we are working with a QVM instance instead of a real quantum processing unit we can query the wavefunction for debugging purposesses.  To query the final expectation value computed in the VQE algorith we can look at the `result` field in the QAOA object after the `get_angles()` method was run.  The final expectation value is stored in the `fun` object field."
   ]
  },
  {
   "cell_type": "code",
   "execution_count": 5,
   "metadata": {
    "collapsed": false
   },
   "outputs": [
    {
     "name": "stdout",
     "output_type": "stream",
     "text": [
      "4.14269165638e-08\n"
     ]
    }
   ],
   "source": [
    "print inst.result.fun"
   ]
  },
  {
   "cell_type": "code",
   "execution_count": 6,
   "metadata": {
    "collapsed": false
   },
   "outputs": [
    {
     "name": "stdout",
     "output_type": "stream",
     "text": [
      "0000 [  5.68271489e-11+0.j]\n",
      "0001 [  1.23776398e-09+0.j]\n",
      "0010 [  1.23776398e-09+0.j]\n",
      "0011 [ 0.16666666+0.j]\n",
      "0100 [  1.23776398e-09+0.j]\n",
      "0101 [ 0.16666666+0.j]\n",
      "0110 [ 0.16666666+0.j]\n",
      "0111 [  1.23776398e-09+0.j]\n",
      "1000 [  1.23776398e-09+0.j]\n",
      "1001 [ 0.16666666+0.j]\n",
      "1010 [ 0.16666666+0.j]\n",
      "1011 [  1.23776398e-09+0.j]\n",
      "1100 [ 0.16666666+0.j]\n",
      "1101 [  1.23776398e-09+0.j]\n",
      "1110 [  1.23776398e-09+0.j]\n",
      "1111 [  5.68271489e-11+0.j]\n"
     ]
    }
   ],
   "source": [
    "probs = inst.probabilities(np.hstack((betas, gammas)))\n",
    "for state, prob in zip(inst.states, probs):\n",
    "    print state, prob"
   ]
  },
  {
   "cell_type": "markdown",
   "metadata": {},
   "source": [
    "As expected the dominant bit strings are the strings with $\\hat{J}_{z} = 0$."
   ]
  },
  {
   "cell_type": "markdown",
   "metadata": {},
   "source": [
    "## When is this penalty function useful?"
   ]
  },
  {
   "cell_type": "markdown",
   "metadata": {},
   "source": [
    "Another type of graph parititioning is finding the minimum cut between two equal size clusters.  For example, imagine two clusters that are loosely connected.  Processing the entire graph may be difficult, but breaking up the graph into parts and then performing computation on each disperate set.   Recently, this graph partitioning has been proposed for linear scaling electronic structure calculations."
   ]
  },
  {
   "cell_type": "code",
   "execution_count": 16,
   "metadata": {
    "collapsed": false
   },
   "outputs": [
    {
     "data": {
      "image/png": "[encoded data removed]",
      "text/plain": [
       "<matplotlib.figure.Figure at 0x7fdd77e92dd0>"
      ]
     },
     "metadata": {},
     "output_type": "display_data"
    }
   ],
   "source": [
    "%matplotlib inline\n",
    "\n",
    "import networkx as nx\n",
    "import matplotlib.pyplot as plt\n",
    "limits=plt.axis('off')\n",
    "\n",
    "graph = nx.barbell_graph(6, 6, )\n",
    "nx.draw_networkx(graph, pos=nx.spring_layout(graph), with_labels=True)"
   ]
  },
  {
   "cell_type": "markdown",
   "metadata": {},
   "source": [
    "If the objective is to identify two large clusters of the graph.  It is easy to see that for a graph like this we want to simply cut the barbell connection between the two fully connected sets of 4 on the end.  The cost function for this is equivalent to a minimum cut.  We want to penalize when the nodes are allocated to different sets\n",
    "$$\\begin{align}\n",
    "\\hat{H} = B\\sum_{(\\nu, \\mu) \\in E} (I -\\sigma_{\\nu}^{Z} \\sigma_{\\mu}^{Z})/2.\n",
    "\\end{align}\n",
    "$$\n",
    "and also penalize when we don't have an even partition with the penalty operator given above\n",
    "$$\\begin{align}\n",
    " H = A\\left(\\sum_{i}\\hat{\\sigma}_{i}^{z}\\right)^{2} = A\\sum_{i,j} \\hat{\\sigma}_{i}^{z}\\hat{\\sigma}_{j}^{z}.\n",
    "\\end{align}$$\n",
    "We need to ensure that the grouping term ($B$) doesn't dominate energy scale of the problem.  In order to avoid this situation the ratio of A/B can be selected to balance the effects of violating a constraint in Hamiltonian A and gaining energy from B. We can now construct the cost and driver Hamiltonians very naturally from iterating over the edges of the graph."
   ]
  },
  {
   "cell_type": "code",
   "execution_count": 8,
   "metadata": {
    "collapsed": false
   },
   "outputs": [],
   "source": [
    "cost_operators = []\n",
    "driver_operators = []\n",
    "B = 1\n",
    "max_degree = max(graph.degree(), key=lambda x: graph.degree()[x])\n",
    "# bounds from arXiv: 1302:5843v3\n",
    "A_B_ratio = min(2*max_degree, len(graph.nodes()))/8.0\n",
    "A = A_B_ratio\n",
    "for node in graph.nodes():\n",
    "    for node_j in graph.nodes():\n",
    "        cost_operators.append(PauliSum([PauliTerm(\"Z\", node, A)*PauliTerm(\"Z\", node_j, 1.0)]))\n",
    "    driver_operators.append(PauliSum([PauliTerm(\"X\", node, -1)]))\n",
    "    \n",
    "for i, j in graph.edges():\n",
    "    cost_operators.append(PauliTerm(\"Z\", i, -B*0.5)*PauliTerm(\"Z\", j, 1.0) + PauliTerm(\"I\", 0, B*0.5))\n",
    "    \n",
    "# set number of qubits\n",
    "n_qubits = len(graph.nodes())"
   ]
  },
  {
   "cell_type": "markdown",
   "metadata": {},
   "source": [
    "We can now instantiate the `QAOA`object and run the VQE loop to find the angles."
   ]
  },
  {
   "cell_type": "code",
   "execution_count": 9,
   "metadata": {
    "collapsed": false
   },
   "outputs": [],
   "source": [
    "from scipy.optimize import minimize\n",
    "n_qubits= len(graph.nodes())\n",
    "def print_fun(x):\n",
    "    print x\n",
    "    \n",
    "qaoa_inst = QAOA(cxn, n_qubits, steps=1, cost_ham=cost_operators, ref_hamiltonian=driver_operators, store_basis=True,\n",
    "                 minimizer=minimize, minimizer_kwargs={'method': 'Nelder-Mead',\n",
    "                                                       'options': {'ftol': 1.0e-2, 'xtol': 1.0e-2, 'disp': True, 'maxfev': 10000}},\n",
    "                 vqe_options={'disp': print_fun}, rand_seed=42)"
   ]
  },
  {
   "cell_type": "markdown",
   "metadata": {},
   "source": [
    "Including the penalty term in the cost function Hamiltonian drastically increases the size of the Quil Program needed for execution.  There are $N(N - 1)/2$ terms more which are all Hamiltonians with two Pauli operators in their string requiring entanglement.  Since the sum runs over all the qubits we potentially must entangle an arbitrary number of qubits across the lattice.  Furthermore, It seems unlikely that the most probably bit string will be determined by low step size.  Just as a demonstration let's run p=1 for the penalty Hamiltonian."
   ]
  },
  {
   "cell_type": "code",
   "execution_count": 10,
   "metadata": {
    "collapsed": false
   },
   "outputs": [
    {
     "name": "stdout",
     "output_type": "stream",
     "text": [
      "\tParameters: [ 1.23548511  6.27218987] \n",
      "\tE => 15.1008716657\n",
      "\tParameters: [ 1.23548511  6.27218987] \n",
      "\tE => 15.1008716657\n",
      "\tParameters: [ 1.21342288  6.19752094] \n",
      "\tE => 14.4297504557\n",
      "\tParameters: [ 1.2722555   6.19752094] \n",
      "\tE => 11.9691379411\n",
      "\tParameters: [ 1.23916215  6.23485541] \n",
      "\tE => 11.7019385153\n",
      "\tParameters: [ 1.29799477  6.23485541] \n",
      "\tE => 11.1633744119\n",
      "\tParameters: [ 1.29799477  6.23485541] \n",
      "\tE => 11.1633744119\n",
      "\tParameters: [ 1.37429333  6.20685456] \n",
      "\tE => 10.4955652723\n",
      "\tParameters: [ 1.37429333  6.20685456] \n",
      "\tE => 10.4955652723\n",
      "\tParameters: [ 1.37429333  6.20685456] \n",
      "\tE => 10.4955652723\n",
      "\tParameters: [ 1.34010836  6.20860461] \n",
      "\tE => 10.4800797431\n",
      "\tParameters: [ 1.36838996  6.19912516] \n",
      "\tE => 10.4328935064\n",
      "\tParameters: [ 1.36838996  6.19912516] \n",
      "\tE => 10.4328935064\n",
      "\tParameters: [ 1.36838996  6.19912516] \n",
      "\tE => 10.4328935064\n",
      "\tParameters: [ 1.35907146  6.20073165] \n",
      "\tE => 10.4281778627\n",
      "Optimization terminated successfully.\n",
      "         Current function value: 10.428178\n",
      "         Iterations: 16\n",
      "         Function evaluations: 32\n"
     ]
    }
   ],
   "source": [
    "betas, gammas = qaoa_inst.get_angles()"
   ]
  },
  {
   "cell_type": "markdown",
   "metadata": {},
   "source": [
    "Clearly, the objective is siginficantly above the true ground state that we know to be 1.0.  We can then ask for the most frequent bitstring from sampling to gauge if the VQE loop was able to find angles that produced a distribution around the desired solution."
   ]
  },
  {
   "cell_type": "code",
   "execution_count": 11,
   "metadata": {
    "collapsed": false
   },
   "outputs": [],
   "source": [
    "most_freq_string, sampling_results = qaoa_inst.get_string(betas, gammas, samples=100)"
   ]
  },
  {
   "cell_type": "code",
   "execution_count": 12,
   "metadata": {
    "collapsed": false
   },
   "outputs": [
    {
     "data": {
      "text/plain": [
       "(0, 1, 0, 0, 1, 1, 1, 0, 1, 1, 0, 0)"
      ]
     },
     "execution_count": 12,
     "metadata": {},
     "output_type": "execute_result"
    }
   ],
   "source": [
    "most_freq_string"
   ]
  },
  {
   "cell_type": "markdown",
   "metadata": {},
   "source": [
    "As expected from the value of the cost function at the end of the optimization the distribution we are sampling from does not represent a distribution that is dominated by the ground state configuration.  We would expect a degenerate ground state peaked around the strings $(0,0,0,0,0,0,1,1,1,1,1,1)$ and $(1,1,1,1,1,1,0,0,0,0,0,0)$."
   ]
  },
  {
   "cell_type": "code",
   "execution_count": 13,
   "metadata": {
    "collapsed": false
   },
   "outputs": [],
   "source": [
    "probs = qaoa_inst.probabilities(np.hstack((betas, gammas)))"
   ]
  },
  {
   "cell_type": "code",
   "execution_count": 14,
   "metadata": {
    "collapsed": true
   },
   "outputs": [],
   "source": [
    "# plotting strings!\n",
    "def plot(inst, probs):\n",
    "    probs = probs.real\n",
    "    states = inst.states\n",
    "    fig = plt.figure()\n",
    "    ax = fig.add_subplot(111)\n",
    "    ax.set_xlabel(\"state\",fontsize=20)\n",
    "    ax.set_ylabel(\"Probability\",fontsize=20)\n",
    "    ax.set_xlim([0, 2**inst.n_qubits])\n",
    "    rec = ax.bar(range(2**n_qubits), probs, )\n",
    "    num_states = [0, int(\"\".join(str(x) for x in [0] * (inst.n_qubits/2) + [1] * (inst.n_qubits/2) ), 2), \n",
    "              int(\"\".join(str(x) for x in [1] * (inst.n_qubits/2) + [0] * (inst.n_qubits/2)), 2), 2**inst.n_qubits - 1 ]\n",
    "    ax.set_xticks(num_states)\n",
    "    ax.set_xticklabels(map(lambda x: inst.states[x], num_states), rotation=90)\n",
    "    plt.grid(True)\n",
    "    plt.tight_layout()\n",
    "    plt.show()"
   ]
  },
  {
   "cell_type": "code",
   "execution_count": 15,
   "metadata": {
    "collapsed": false
   },
   "outputs": [
    {
     "data": {
      "image/png": "[encoded data removed]",
      "text/plain": [
       "<matplotlib.figure.Figure at 0x7fdd77eabf50>"
      ]
     },
     "metadata": {},
     "output_type": "display_data"
    }
   ],
   "source": [
    "plot(qaoa_inst, probs)"
   ]
  },
  {
   "cell_type": "markdown",
   "metadata": {},
   "source": [
    "Clearly, It is quite difficult to use VQE to determine the optimal parameters for the penalized cost Hamiltonian. We easily converge to local minimum. Furthermore the Quil program now requires entanglement between qubits that could be seperated by a great distance on some physical device.  This requires many swap steps to perform entangling gates."
   ]
  },
  {
   "cell_type": "markdown",
   "metadata": {},
   "source": [
    "# Constrained driver Hamiltonian\n",
    "We can remove the constraint term from the problem Hamiltonian by selecting a driver that commutes with the penalty term and the cost Hamiltonian.  Therefore, the constraint will be a consant of motion and if we start the QAOA algorithm with a reference that is in the correct subspace satisfying the constraint we will stay in the space.  This results in siginficantly fewer Hamiltonian terms and avoids the difficulty of identifying the correct penalty strengths based on the cost degree of a graph.  \n",
    "\n",
    "In the following we will replace our driver Hamiltonian with\n",
    "$$\n",
    "\\begin{align}\n",
    "\\hat{H}_{\\mathrm{Driver}} = -\\sum_{i = 1}^{n} \\sigma_{n}^{X}\\sigma_{n+1}^{X} + \\sigma_{n}^{Y}\\sigma_{n+1}^{Y}\n",
    "\\end{align}\n",
    "$$\n",
    "where $n$ is the number of qubits.  Another feature of this driver is that it is the natural Hamiltonian of common superconducting qubits. "
   ]
  },
  {
   "cell_type": "code",
   "execution_count": 17,
   "metadata": {
    "collapsed": false
   },
   "outputs": [],
   "source": [
    "set_length = len(graph.nodes())\n",
    "driver_operators = []\n",
    "cost_operators = []\n",
    "for node in xrange(set_length):\n",
    "    one_driver_term = PauliTerm(\"X\", node, -1.0) * PauliTerm(\"X\", (node + 1) % set_length, 1.0) + PauliTerm(\"Y\", node, -1.0) * PauliTerm(\"Y\", (node + 1) % set_length, 1.0)\n",
    "    driver_operators.append(one_driver_term)\n",
    "    \n",
    "for i, j in graph.edges():\n",
    "    cost_operators.append(PauliTerm(\"Z\", i, -0.5)*PauliTerm(\"Z\", j, 1.0) + PauliTerm(\"I\", 0, 0.5))"
   ]
  },
  {
   "cell_type": "markdown",
   "metadata": {},
   "source": [
    "We will also replace our initial state to correspond with a state in the correct subspace of the Hamiltonian.  The penalty function from before indicated that we need to start somewhere in the zero magnetization subspace.  This is achieved by simply flipping $n/2$ of the bits."
   ]
  },
  {
   "cell_type": "code",
   "execution_count": 18,
   "metadata": {
    "collapsed": false
   },
   "outputs": [],
   "source": [
    "start_prog = pq.Program()\n",
    "for node in xrange(set_length/2):\n",
    "    start_prog.inst(X(node))"
   ]
  },
  {
   "cell_type": "code",
   "execution_count": 19,
   "metadata": {
    "collapsed": false
   },
   "outputs": [],
   "source": [
    "n_qubits= len(graph.nodes())\n",
    "qaoa_inst_constraint = QAOA(cxn, n_qubits, steps=1, cost_ham=cost_operators, ref_hamiltonian=driver_operators, store_basis=True,\n",
    "                 driver_ref=start_prog,\n",
    "                 minimizer=minimize, minimizer_kwargs={'method': 'Nelder-Mead',\n",
    "                                                       'options': {'ftol': 1.0e-1, 'xtol': 1.0e-1, 'disp': True, 'maxfev': 10000}},\n",
    "                 vqe_options={'disp': print_fun}, rand_seed=42)"
   ]
  },
  {
   "cell_type": "markdown",
   "metadata": {},
   "source": [
    "We now want to start our QAOA run in the correct subspace.  Since our constraint corresponded to equal size subgraphs we want to perform an `X` operation on half of the qubits."
   ]
  },
  {
   "cell_type": "code",
   "execution_count": 22,
   "metadata": {
    "collapsed": false
   },
   "outputs": [
    {
     "name": "stdout",
     "output_type": "stream",
     "text": [
      "\tParameters: [ 1.23548511  5.97351416] \n",
      "\tE => 5.69739120382\n",
      "\tParameters: [ 1.35315036  5.5255006 ] \n",
      "\tE => 3.13718391107\n",
      "\tParameters: [ 1.41198298  5.89884523] \n",
      "\tE => 2.17080732643\n",
      "\tParameters: [ 1.52964823  5.45083167] \n",
      "\tE => 1.08108865348\n",
      "\tParameters: [ 1.58848086  5.82417631] \n",
      "\tE => 1.01500538468\n",
      "\tParameters: [ 1.58848086  5.82417631] \n",
      "\tE => 1.01500538468\n",
      "\tParameters: [ 1.58848086  5.82417631] \n",
      "\tE => 1.01500538468\n",
      "\tParameters: [ 1.56090306  5.57450208] \n",
      "\tE => 1.00469746677\n",
      "\tParameters: [ 1.56090306  5.57450208] \n",
      "\tE => 1.00469746677\n",
      "\tParameters: [ 1.57285344  5.7623411 ] \n",
      "\tE => 1.00020312117\n",
      "\tParameters: [ 1.57285344  5.7623411 ] \n",
      "\tE => 1.00020312117\n",
      "\tParameters: [ 1.57285344  5.7623411 ] \n",
      "\tE => 1.00020312117\n",
      "\tParameters: [ 1.57285344  5.7623411 ] \n",
      "\tE => 1.00020312117\n",
      "\tParameters: [ 1.57285344  5.7623411 ] \n",
      "\tE => 1.00020312117\n",
      "\tParameters: [ 1.57196291  5.66218703] \n",
      "\tE => 1.00006532355\n",
      "\tParameters: [ 1.57056247  5.65884188] \n",
      "\tE => 1.00000262502\n",
      "\tParameters: [ 1.57056247  5.65884188] \n",
      "\tE => 1.00000262502\n",
      "\tParameters: [ 1.57056247  5.65884188] \n",
      "\tE => 1.00000262502\n",
      "\tParameters: [ 1.57056247  5.65884188] \n",
      "\tE => 1.00000262502\n",
      "Optimization terminated successfully.\n",
      "         Current function value: 1.000003\n",
      "         Iterations: 20\n",
      "         Function evaluations: 37\n"
     ]
    }
   ],
   "source": [
    "betas, gammas = qaoa_inst_constraint.get_angles()"
   ]
  },
  {
   "cell_type": "markdown",
   "metadata": {},
   "source": [
    "The reduction of complexity in the Hamiltonian also allowed us to easily determine angles that result in a distribution that is peaked around the ground state.  The following two sells indicate that the distribution is actually a delta function around one of the solutions!"
   ]
  },
  {
   "cell_type": "code",
   "execution_count": 23,
   "metadata": {
    "collapsed": false
   },
   "outputs": [],
   "source": [
    "probs = qaoa_inst_constraint.probabilities(np.hstack((betas, gammas)))"
   ]
  },
  {
   "cell_type": "code",
   "execution_count": 24,
   "metadata": {
    "collapsed": false
   },
   "outputs": [
    {
     "ename": "KeyboardInterrupt",
     "evalue": "",
     "output_type": "error",
     "traceback": [
      "\u001b[0;31m---------------------------------------------------------------------------\u001b[0m",
      "\u001b[0;31mKeyboardInterrupt\u001b[0m                         Traceback (most recent call last)",
      "\u001b[0;32m<ipython-input-24-178e81d99fd5>\u001b[0m in \u001b[0;36m<module>\u001b[0;34m()\u001b[0m\n\u001b[0;32m----> 1\u001b[0;31m \u001b[0mplot\u001b[0m\u001b[0;34m(\u001b[0m\u001b[0mqaoa_inst_constraint\u001b[0m\u001b[0;34m,\u001b[0m \u001b[0mprobs\u001b[0m\u001b[0;34m)\u001b[0m\u001b[0;34m\u001b[0m\u001b[0m\n\u001b[0m",
      "\u001b[0;32m<ipython-input-14-7d13a3d63e30>\u001b[0m in \u001b[0;36mplot\u001b[0;34m(inst, probs)\u001b[0m\n\u001b[1;32m      8\u001b[0m     \u001b[0max\u001b[0m\u001b[0;34m.\u001b[0m\u001b[0mset_ylabel\u001b[0m\u001b[0;34m(\u001b[0m\u001b[0;34m\"Probability\"\u001b[0m\u001b[0;34m,\u001b[0m\u001b[0mfontsize\u001b[0m\u001b[0;34m=\u001b[0m\u001b[0;36m20\u001b[0m\u001b[0;34m)\u001b[0m\u001b[0;34m\u001b[0m\u001b[0m\n\u001b[1;32m      9\u001b[0m     \u001b[0max\u001b[0m\u001b[0;34m.\u001b[0m\u001b[0mset_xlim\u001b[0m\u001b[0;34m(\u001b[0m\u001b[0;34m[\u001b[0m\u001b[0;36m0\u001b[0m\u001b[0;34m,\u001b[0m \u001b[0;36m2\u001b[0m\u001b[0;34m**\u001b[0m\u001b[0minst\u001b[0m\u001b[0;34m.\u001b[0m\u001b[0mn_qubits\u001b[0m\u001b[0;34m]\u001b[0m\u001b[0;34m)\u001b[0m\u001b[0;34m\u001b[0m\u001b[0m\n\u001b[0;32m---> 10\u001b[0;31m     \u001b[0mrec\u001b[0m \u001b[0;34m=\u001b[0m \u001b[0max\u001b[0m\u001b[0;34m.\u001b[0m\u001b[0mbar\u001b[0m\u001b[0;34m(\u001b[0m\u001b[0mrange\u001b[0m\u001b[0;34m(\u001b[0m\u001b[0;36m2\u001b[0m\u001b[0;34m**\u001b[0m\u001b[0mn_qubits\u001b[0m\u001b[0;34m)\u001b[0m\u001b[0;34m,\u001b[0m \u001b[0mprobs\u001b[0m\u001b[0;34m,\u001b[0m \u001b[0;34m)\u001b[0m\u001b[0;34m\u001b[0m\u001b[0m\n\u001b[0m\u001b[1;32m     11\u001b[0m     num_states = [0, int(\"\".join(str(x) for x in [0] * (inst.n_qubits/2) + [1] * (inst.n_qubits/2) ), 2), \n\u001b[1;32m     12\u001b[0m               int(\"\".join(str(x) for x in [1] * (inst.n_qubits/2) + [0] * (inst.n_qubits/2)), 2), 2**inst.n_qubits - 1 ]\n",
      "\u001b[0;32m/home/nick/anaconda2/lib/python2.7/site-packages/matplotlib/__init__.pyc\u001b[0m in \u001b[0;36minner\u001b[0;34m(ax, *args, **kwargs)\u001b[0m\n\u001b[1;32m   1817\u001b[0m                     warnings.warn(msg % (label_namer, func.__name__),\n\u001b[1;32m   1818\u001b[0m                                   RuntimeWarning, stacklevel=2)\n\u001b[0;32m-> 1819\u001b[0;31m             \u001b[0;32mreturn\u001b[0m \u001b[0mfunc\u001b[0m\u001b[0;34m(\u001b[0m\u001b[0max\u001b[0m\u001b[0;34m,\u001b[0m \u001b[0;34m*\u001b[0m\u001b[0margs\u001b[0m\u001b[0;34m,\u001b[0m \u001b[0;34m**\u001b[0m\u001b[0mkwargs\u001b[0m\u001b[0;34m)\u001b[0m\u001b[0;34m\u001b[0m\u001b[0m\n\u001b[0m\u001b[1;32m   1820\u001b[0m         \u001b[0mpre_doc\u001b[0m \u001b[0;34m=\u001b[0m \u001b[0minner\u001b[0m\u001b[0;34m.\u001b[0m\u001b[0m__doc__\u001b[0m\u001b[0;34m\u001b[0m\u001b[0m\n\u001b[1;32m   1821\u001b[0m         \u001b[0;32mif\u001b[0m \u001b[0mpre_doc\u001b[0m \u001b[0;32mis\u001b[0m \u001b[0mNone\u001b[0m\u001b[0;34m:\u001b[0m\u001b[0;34m\u001b[0m\u001b[0m\n",
      "\u001b[0;32m/home/nick/anaconda2/lib/python2.7/site-packages/matplotlib/axes/_axes.pyc\u001b[0m in \u001b[0;36mbar\u001b[0;34m(self, left, height, width, bottom, **kwargs)\u001b[0m\n\u001b[1;32m   2090\u001b[0m             \u001b[0mr\u001b[0m\u001b[0;34m.\u001b[0m\u001b[0mget_path\u001b[0m\u001b[0;34m(\u001b[0m\u001b[0;34m)\u001b[0m\u001b[0;34m.\u001b[0m\u001b[0m_interpolation_steps\u001b[0m \u001b[0;34m=\u001b[0m \u001b[0;36m100\u001b[0m\u001b[0;34m\u001b[0m\u001b[0m\n\u001b[1;32m   2091\u001b[0m             \u001b[0;31m#print r.get_label(), label, 'label' in kwargs\u001b[0m\u001b[0;34m\u001b[0m\u001b[0;34m\u001b[0m\u001b[0m\n\u001b[0;32m-> 2092\u001b[0;31m             \u001b[0mself\u001b[0m\u001b[0;34m.\u001b[0m\u001b[0madd_patch\u001b[0m\u001b[0;34m(\u001b[0m\u001b[0mr\u001b[0m\u001b[0;34m)\u001b[0m\u001b[0;34m\u001b[0m\u001b[0m\n\u001b[0m\u001b[1;32m   2093\u001b[0m             \u001b[0mpatches\u001b[0m\u001b[0;34m.\u001b[0m\u001b[0mappend\u001b[0m\u001b[0;34m(\u001b[0m\u001b[0mr\u001b[0m\u001b[0;34m)\u001b[0m\u001b[0;34m\u001b[0m\u001b[0m\n\u001b[1;32m   2094\u001b[0m \u001b[0;34m\u001b[0m\u001b[0m\n",
      "\u001b[0;32m/home/nick/anaconda2/lib/python2.7/site-packages/matplotlib/axes/_base.pyc\u001b[0m in \u001b[0;36madd_patch\u001b[0;34m(self, p)\u001b[0m\n\u001b[1;32m   1776\u001b[0m         \u001b[0;32mif\u001b[0m \u001b[0mp\u001b[0m\u001b[0;34m.\u001b[0m\u001b[0mget_clip_path\u001b[0m\u001b[0;34m(\u001b[0m\u001b[0;34m)\u001b[0m \u001b[0;32mis\u001b[0m \u001b[0mNone\u001b[0m\u001b[0;34m:\u001b[0m\u001b[0;34m\u001b[0m\u001b[0m\n\u001b[1;32m   1777\u001b[0m             \u001b[0mp\u001b[0m\u001b[0;34m.\u001b[0m\u001b[0mset_clip_path\u001b[0m\u001b[0;34m(\u001b[0m\u001b[0mself\u001b[0m\u001b[0;34m.\u001b[0m\u001b[0mpatch\u001b[0m\u001b[0;34m)\u001b[0m\u001b[0;34m\u001b[0m\u001b[0m\n\u001b[0;32m-> 1778\u001b[0;31m         \u001b[0mself\u001b[0m\u001b[0;34m.\u001b[0m\u001b[0m_update_patch_limits\u001b[0m\u001b[0;34m(\u001b[0m\u001b[0mp\u001b[0m\u001b[0;34m)\u001b[0m\u001b[0;34m\u001b[0m\u001b[0m\n\u001b[0m\u001b[1;32m   1779\u001b[0m         \u001b[0mself\u001b[0m\u001b[0;34m.\u001b[0m\u001b[0mpatches\u001b[0m\u001b[0;34m.\u001b[0m\u001b[0mappend\u001b[0m\u001b[0;34m(\u001b[0m\u001b[0mp\u001b[0m\u001b[0;34m)\u001b[0m\u001b[0;34m\u001b[0m\u001b[0m\n\u001b[1;32m   1780\u001b[0m         \u001b[0mp\u001b[0m\u001b[0;34m.\u001b[0m\u001b[0m_remove_method\u001b[0m \u001b[0;34m=\u001b[0m \u001b[0;32mlambda\u001b[0m \u001b[0mh\u001b[0m\u001b[0;34m:\u001b[0m \u001b[0mself\u001b[0m\u001b[0;34m.\u001b[0m\u001b[0mpatches\u001b[0m\u001b[0;34m.\u001b[0m\u001b[0mremove\u001b[0m\u001b[0;34m(\u001b[0m\u001b[0mh\u001b[0m\u001b[0;34m)\u001b[0m\u001b[0;34m\u001b[0m\u001b[0m\n",
      "\u001b[0;32m/home/nick/anaconda2/lib/python2.7/site-packages/matplotlib/axes/_base.pyc\u001b[0m in \u001b[0;36m_update_patch_limits\u001b[0;34m(self, patch)\u001b[0m\n\u001b[1;32m   1803\u001b[0m \u001b[0;34m\u001b[0m\u001b[0m\n\u001b[1;32m   1804\u001b[0m             \u001b[0mupdatex\u001b[0m\u001b[0;34m,\u001b[0m \u001b[0mupdatey\u001b[0m \u001b[0;34m=\u001b[0m \u001b[0mpatch\u001b[0m\u001b[0;34m.\u001b[0m\u001b[0mget_transform\u001b[0m\u001b[0;34m(\u001b[0m\u001b[0;34m)\u001b[0m\u001b[0;34m.\u001b[0m\u001b[0;31m\\\u001b[0m\u001b[0;34m\u001b[0m\u001b[0m\n\u001b[0;32m-> 1805\u001b[0;31m                 \u001b[0mcontains_branch_seperately\u001b[0m\u001b[0;34m(\u001b[0m\u001b[0mself\u001b[0m\u001b[0;34m.\u001b[0m\u001b[0mtransData\u001b[0m\u001b[0;34m)\u001b[0m\u001b[0;34m\u001b[0m\u001b[0m\n\u001b[0m\u001b[1;32m   1806\u001b[0m             self.update_datalim(xys, updatex=updatex,\n\u001b[1;32m   1807\u001b[0m                                 updatey=updatey)\n",
      "\u001b[0;32m/home/nick/anaconda2/lib/python2.7/site-packages/matplotlib/transforms.pyc\u001b[0m in \u001b[0;36mcontains_branch_seperately\u001b[0;34m(self, other_transform)\u001b[0m\n\u001b[1;32m   1238\u001b[0m         \u001b[0;31m# for a non-blended transform each seperate dimension is the same, so\u001b[0m\u001b[0;34m\u001b[0m\u001b[0;34m\u001b[0m\u001b[0m\n\u001b[1;32m   1239\u001b[0m         \u001b[0;31m# just return the appropriate shape.\u001b[0m\u001b[0;34m\u001b[0m\u001b[0;34m\u001b[0m\u001b[0m\n\u001b[0;32m-> 1240\u001b[0;31m         \u001b[0;32mreturn\u001b[0m \u001b[0;34m[\u001b[0m\u001b[0mself\u001b[0m\u001b[0;34m.\u001b[0m\u001b[0mcontains_branch\u001b[0m\u001b[0;34m(\u001b[0m\u001b[0mother_transform\u001b[0m\u001b[0;34m)\u001b[0m\u001b[0;34m]\u001b[0m \u001b[0;34m*\u001b[0m \u001b[0;36m2\u001b[0m\u001b[0;34m\u001b[0m\u001b[0m\n\u001b[0m\u001b[1;32m   1241\u001b[0m \u001b[0;34m\u001b[0m\u001b[0m\n\u001b[1;32m   1242\u001b[0m     \u001b[0;32mdef\u001b[0m \u001b[0m__sub__\u001b[0m\u001b[0;34m(\u001b[0m\u001b[0mself\u001b[0m\u001b[0;34m,\u001b[0m \u001b[0mother\u001b[0m\u001b[0;34m)\u001b[0m\u001b[0;34m:\u001b[0m\u001b[0;34m\u001b[0m\u001b[0m\n",
      "\u001b[0;32m/home/nick/anaconda2/lib/python2.7/site-packages/matplotlib/transforms.pyc\u001b[0m in \u001b[0;36mcontains_branch\u001b[0;34m(self, other)\u001b[0m\n\u001b[1;32m   1218\u001b[0m         \u001b[0;31m# check that a subtree is equal to other (starting from self)\u001b[0m\u001b[0;34m\u001b[0m\u001b[0;34m\u001b[0m\u001b[0m\n\u001b[1;32m   1219\u001b[0m         \u001b[0;32mfor\u001b[0m \u001b[0m_\u001b[0m\u001b[0;34m,\u001b[0m \u001b[0msub_tree\u001b[0m \u001b[0;32min\u001b[0m \u001b[0mself\u001b[0m\u001b[0;34m.\u001b[0m\u001b[0m_iter_break_from_left_to_right\u001b[0m\u001b[0;34m(\u001b[0m\u001b[0;34m)\u001b[0m\u001b[0;34m:\u001b[0m\u001b[0;34m\u001b[0m\u001b[0m\n\u001b[0;32m-> 1220\u001b[0;31m             \u001b[0;32mif\u001b[0m \u001b[0msub_tree\u001b[0m \u001b[0;34m==\u001b[0m \u001b[0mother\u001b[0m\u001b[0;34m:\u001b[0m\u001b[0;34m\u001b[0m\u001b[0m\n\u001b[0m\u001b[1;32m   1221\u001b[0m                 \u001b[0;32mreturn\u001b[0m \u001b[0mTrue\u001b[0m\u001b[0;34m\u001b[0m\u001b[0m\n\u001b[1;32m   1222\u001b[0m         \u001b[0;32mreturn\u001b[0m \u001b[0mFalse\u001b[0m\u001b[0;34m\u001b[0m\u001b[0m\n",
      "\u001b[0;32m/home/nick/anaconda2/lib/python2.7/site-packages/matplotlib/transforms.pyc\u001b[0m in \u001b[0;36m__eq__\u001b[0;34m(self, other)\u001b[0m\n\u001b[1;32m   2315\u001b[0m     \u001b[0;32mdef\u001b[0m \u001b[0m__eq__\u001b[0m\u001b[0;34m(\u001b[0m\u001b[0mself\u001b[0m\u001b[0;34m,\u001b[0m \u001b[0mother\u001b[0m\u001b[0;34m)\u001b[0m\u001b[0;34m:\u001b[0m\u001b[0;34m\u001b[0m\u001b[0m\n\u001b[1;32m   2316\u001b[0m         \u001b[0;32mif\u001b[0m \u001b[0misinstance\u001b[0m\u001b[0;34m(\u001b[0m\u001b[0mother\u001b[0m\u001b[0;34m,\u001b[0m \u001b[0;34m(\u001b[0m\u001b[0mCompositeGenericTransform\u001b[0m\u001b[0;34m,\u001b[0m \u001b[0mCompositeAffine2D\u001b[0m\u001b[0;34m)\u001b[0m\u001b[0;34m)\u001b[0m\u001b[0;34m:\u001b[0m\u001b[0;34m\u001b[0m\u001b[0m\n\u001b[0;32m-> 2317\u001b[0;31m             \u001b[0;32mreturn\u001b[0m \u001b[0mself\u001b[0m \u001b[0;32mis\u001b[0m \u001b[0mother\u001b[0m \u001b[0;32mor\u001b[0m \u001b[0;34m(\u001b[0m\u001b[0mself\u001b[0m\u001b[0;34m.\u001b[0m\u001b[0m_a\u001b[0m \u001b[0;34m==\u001b[0m \u001b[0mother\u001b[0m\u001b[0;34m.\u001b[0m\u001b[0m_a\u001b[0m \u001b[0;32mand\u001b[0m \u001b[0mself\u001b[0m\u001b[0;34m.\u001b[0m\u001b[0m_b\u001b[0m \u001b[0;34m==\u001b[0m \u001b[0mother\u001b[0m\u001b[0;34m.\u001b[0m\u001b[0m_b\u001b[0m\u001b[0;34m)\u001b[0m\u001b[0;34m\u001b[0m\u001b[0m\n\u001b[0m\u001b[1;32m   2318\u001b[0m         \u001b[0;32melse\u001b[0m\u001b[0;34m:\u001b[0m\u001b[0;34m\u001b[0m\u001b[0m\n\u001b[1;32m   2319\u001b[0m             \u001b[0;32mreturn\u001b[0m \u001b[0mFalse\u001b[0m\u001b[0;34m\u001b[0m\u001b[0m\n",
      "\u001b[0;32m/home/nick/anaconda2/lib/python2.7/site-packages/matplotlib/transforms.pyc\u001b[0m in \u001b[0;36m__eq__\u001b[0;34m(self, other)\u001b[0m\n\u001b[1;32m   2314\u001b[0m \u001b[0;34m\u001b[0m\u001b[0m\n\u001b[1;32m   2315\u001b[0m     \u001b[0;32mdef\u001b[0m \u001b[0m__eq__\u001b[0m\u001b[0;34m(\u001b[0m\u001b[0mself\u001b[0m\u001b[0;34m,\u001b[0m \u001b[0mother\u001b[0m\u001b[0;34m)\u001b[0m\u001b[0;34m:\u001b[0m\u001b[0;34m\u001b[0m\u001b[0m\n\u001b[0;32m-> 2316\u001b[0;31m         \u001b[0;32mif\u001b[0m \u001b[0misinstance\u001b[0m\u001b[0;34m(\u001b[0m\u001b[0mother\u001b[0m\u001b[0;34m,\u001b[0m \u001b[0;34m(\u001b[0m\u001b[0mCompositeGenericTransform\u001b[0m\u001b[0;34m,\u001b[0m \u001b[0mCompositeAffine2D\u001b[0m\u001b[0;34m)\u001b[0m\u001b[0;34m)\u001b[0m\u001b[0;34m:\u001b[0m\u001b[0;34m\u001b[0m\u001b[0m\n\u001b[0m\u001b[1;32m   2317\u001b[0m             \u001b[0;32mreturn\u001b[0m \u001b[0mself\u001b[0m \u001b[0;32mis\u001b[0m \u001b[0mother\u001b[0m \u001b[0;32mor\u001b[0m \u001b[0;34m(\u001b[0m\u001b[0mself\u001b[0m\u001b[0;34m.\u001b[0m\u001b[0m_a\u001b[0m \u001b[0;34m==\u001b[0m \u001b[0mother\u001b[0m\u001b[0;34m.\u001b[0m\u001b[0m_a\u001b[0m \u001b[0;32mand\u001b[0m \u001b[0mself\u001b[0m\u001b[0;34m.\u001b[0m\u001b[0m_b\u001b[0m \u001b[0;34m==\u001b[0m \u001b[0mother\u001b[0m\u001b[0;34m.\u001b[0m\u001b[0m_b\u001b[0m\u001b[0;34m)\u001b[0m\u001b[0;34m\u001b[0m\u001b[0m\n\u001b[1;32m   2318\u001b[0m         \u001b[0;32melse\u001b[0m\u001b[0;34m:\u001b[0m\u001b[0;34m\u001b[0m\u001b[0m\n",
      "\u001b[0;31mKeyboardInterrupt\u001b[0m: "
     ]
    },
    {
     "data": {
      "image/png": "[encoded data removed]",
      "text/plain": [
       "<matplotlib.figure.Figure at 0x7fdd76ba5e10>"
      ]
     },
     "metadata": {},
     "output_type": "display_data"
    }
   ],
   "source": [
    "plot(qaoa_inst_constraint, probs)"
   ]
  },
  {
   "cell_type": "markdown",
   "metadata": {},
   "source": [
    "Now we can sample and look at the solution and get the correct bit string with practically 100% probability."
   ]
  },
  {
   "cell_type": "code",
   "execution_count": 25,
   "metadata": {
    "collapsed": false
   },
   "outputs": [
    {
     "name": "stdout",
     "output_type": "stream",
     "text": [
      "[ 1.57056247] [ 5.65884188]\n"
     ]
    }
   ],
   "source": [
    "print betas, gammas\n",
    "most_freq_string, sampling_results = qaoa_inst_constraint.get_string(betas, gammas, samples=100)"
   ]
  },
  {
   "cell_type": "code",
   "execution_count": null,
   "metadata": {
    "collapsed": false
   },
   "outputs": [],
   "source": [
    "print most_freq_string"
   ]
  },
  {
   "cell_type": "markdown",
   "metadata": {},
   "source": [
    "We can visualize our graph parititioning by assigning different colors to the $|0\\rangle$ or $|1\\rangle$."
   ]
  },
  {
   "cell_type": "code",
   "execution_count": null,
   "metadata": {
    "collapsed": false
   },
   "outputs": [],
   "source": [
    "draw_colors = [ 'r' if x==1 else 'b' for x in most_freq_string]"
   ]
  },
  {
   "cell_type": "code",
   "execution_count": null,
   "metadata": {
    "collapsed": false
   },
   "outputs": [],
   "source": [
    "nx.draw_networkx(graph, pos=nx.spring_layout(graph), with_labels=True, node_color=draw_colors)"
   ]
  },
  {
   "cell_type": "markdown",
   "metadata": {},
   "source": [
    "As expected we get the correct minimum cut of the graph."
   ]
  }
 ],
 "metadata": {
  "anaconda-cloud": {},
  "kernelspec": {
   "display_name": "Python [default]",
   "language": "python",
   "name": "python2"
  },
  "language_info": {
   "codemirror_mode": {
    "name": "ipython",
    "version": 2
   },
   "file_extension": ".py",
   "mimetype": "text/x-python",
   "name": "python",
   "nbconvert_exporter": "python",
   "pygments_lexer": "ipython2",
   "version": "2.7.12"
  }
 },
 "nbformat": 4,
 "nbformat_minor": 1
}
