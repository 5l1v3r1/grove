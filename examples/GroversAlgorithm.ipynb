{
 "cells": [
  {
   "cell_type": "markdown",
   "metadata": {},
   "source": [
    "This Notebook is a brief sketch of how to use Grover's algorithm.\n",
    "We start by declaring all necessary imports."
   ]
  },
  {
   "cell_type": "code",
   "execution_count": null,
   "metadata": {
    "collapsed": true
   },
   "outputs": [],
   "source": [
    "from pyquil.api import SyncConnection\n",
    "from itertools import product\n",
    "from mock import patch\n",
    "\n",
    "import numpy as np\n",
    "\n",
    "from grove.amplification.grover import Grover"
   ]
  },
  {
   "cell_type": "markdown",
   "metadata": {},
   "source": [
    "Grover's algorithm can be used to amplify the amplitude of an oracle-selected bitstring in an input superposition state. Below we construct a bitstring_map to select a target_bitstring."
   ]
  },
  {
   "cell_type": "code",
   "execution_count": null,
   "metadata": {},
   "outputs": [],
   "source": [
    "target_bitstring = '010'\n",
    "bit = (\"0\", \"1\")\n",
    "# The way the oracle should mark the target_bitstring is by imparting a phase of -1.\n",
    "# It should leave all other bitstring phases unchanged.\n",
    "identity_phase_factor = 1\n",
    "target_phase_factor = -1\n",
    "bitstring_map = {}\n",
    "for bitstring in product(bit, repeat=3):\n",
    "    bitstring = \"\".join(bitstring)\n",
    "    if bitstring == target_bitstring:\n",
    "        bitstring_map[bitstring] = target_phase_factor\n",
    "    else:\n",
    "        bitstring_map[bitstring] = identity_phase_factor"
   ]
  },
  {
   "cell_type": "markdown",
   "metadata": {},
   "source": [
    "We'll make sure the bistring_map is what we expected."
   ]
  },
  {
   "cell_type": "code",
   "execution_count": null,
   "metadata": {},
   "outputs": [],
   "source": [
    "for k,v in bitstring_map.iteritems():\n",
    "    if k == target_bitstring:\n",
    "        assert v == target_phase_factor, \"The bitstring_map gives the target the wrong phase.\"\n",
    "    else:\n",
    "        assert v == identity_phase_factor, \"The bitstring_map gives a non-target bitstring the wrong phase.\""
   ]
  },
  {
   "cell_type": "markdown",
   "metadata": {},
   "source": [
    "To use Grover's algorithm on quantum hardware we need to define a connection to a QVM or QPU. However we don't have a real connection in this notebook, so we mock out the response. If you intend to run this notebook on a QVM or QPU, ensure to replace `cxn` with a pyQuil connection object."
   ]
  },
  {
   "cell_type": "code",
   "execution_count": null,
   "metadata": {},
   "outputs": [],
   "source": [
    "with patch(\"pyquil.api.SyncConnection\") as cxn:\n",
    "    cxn.run_and_measure.return_value = (np.asarray([0, 1, 0], dtype=int), )"
   ]
  },
  {
   "cell_type": "markdown",
   "metadata": {},
   "source": [
    "Now let's run Simon's algorithm. We instantiate the Simon object and then call its `find_mask` mehtod with the connection object and the 2-to-1 function whose mask we wish to find.\n",
    "Finally we assert its correctness by checking with the mask we used to generate the function"
   ]
  },
  {
   "cell_type": "code",
   "execution_count": null,
   "metadata": {},
   "outputs": [],
   "source": [
    "grover = Grover()\n",
    "found_bistring = grover.find_bitstring(cxn, bitstring_map)\n",
    "assert found_bistring == target_bitstring, \"Found bitstring is not the expected bitstring.\""
   ]
  },
  {
   "cell_type": "markdown",
   "metadata": {},
   "source": [
    "If the assertion succeeds we know we found the correct bitstring."
   ]
  }
 ],
 "metadata": {
  "kernelspec": {
   "display_name": "Python 2",
   "language": "python",
   "name": "python2"
  },
  "language_info": {
   "codemirror_mode": {
    "name": "ipython",
    "version": 2
   },
   "file_extension": ".py",
   "mimetype": "text/x-python",
   "name": "python",
   "nbconvert_exporter": "python",
   "pygments_lexer": "ipython2",
   "version": "2.7.13"
  }
 },
 "nbformat": 4,
 "nbformat_minor": 1
}
